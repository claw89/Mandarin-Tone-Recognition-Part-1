{
 "cells": [
  {
   "cell_type": "markdown",
   "metadata": {},
   "source": [
    "Mandarin Tone Recognition Part 1\n",
    "===========\n",
    "This notebook demonstrates a Mandarin tone recognition algorithm that takes audio recordings of chinese words from wiktionary. The resulting classifier should be able to recognise the spoken tone from a user audio input.\n",
    "\n",
    "A description of mandarin tones is available here: https://en.wikipedia.org/wiki/Standard_Chinese_phonology#Tones"
   ]
  },
  {
   "cell_type": "markdown",
   "metadata": {},
   "source": [
    "## 1. Wiktionary Parser\n",
    "\n",
    "The wiktionary parser library can download pronunciation audio files and text files for a specified chinese character"
   ]
  },
  {
   "cell_type": "code",
   "execution_count": 1,
   "metadata": {
    "collapsed": true
   },
   "outputs": [],
   "source": [
    "from wiktionaryparser import WiktionaryParser\n",
    "import requests\n",
    "import re"
   ]
  },
  {
   "cell_type": "code",
   "execution_count": 2,
   "metadata": {
    "collapsed": false
   },
   "outputs": [
    {
     "name": "stdout",
     "output_type": "stream",
     "text": [
      "['Mandarin(Standard)(Pinyin): wǒ, ě (wo, e)(Zhuyin): ㄨㄛˇ, ㄜˇ(Chengdu, SP): ngo(Dungan, Cyrillic): вә (və, II)', 'Cantonese(Guangzhou, Jyutping): ngo(Taishan, Wiktionary): ngoi, ngo, ngoi', 'Gan (Wiktionary): ngo', 'Hakka(Sixian, PFS): ngô(Meixian, Guangdong): ngo', 'Jin (Wiktionary): ghe', 'Min Bei (KCR): uòi', 'Min Dong (BUC): nguāi / ngō̤', \"Min Nan(Hokkien, POJ): góa / óa / ngó͘(Teochew, Peng'im): ua / ngo\", 'Wu (Wiktionary): ngu (T3); hhu (T3)', 'Xiang (Wiktionary): ngo', 'Mandarin', '(Standard Chinese, vernacular, standard)', 'Pinyin: wǒ', 'Zhuyin: ㄨㄛˇ', 'Wade–Giles: wo', 'Gwoyeu Romatzyh: wuuo', 'Tongyong Pinyin: wǒ', 'IPA : /wɔ²¹⁴/', '(Standard Chinese, literary, rare variant)', 'Pinyin: ě', 'Zhuyin: ㄜˇ', 'Wade–Giles: o', 'Gwoyeu Romatzyh: ee', 'Tongyong Pinyin: ě', 'IPA : /ˀɤ²¹⁴/', '(Chengdu)', 'Sichuanese Pinyin: ngo', 'Scuanxua Ladinxua Xin Wenz: ngo', 'IPA : /ŋo⁵³/', '(Dungan)(Note: Dungan pronunciation is currently experimental and may be inaccurate.)', 'Cyrillic: вә (və, II)', 'IPA : /vɤː⁵¹/', 'Cantonese', '(Standard Cantonese, Guangzhou)', 'Jyutping: ngo', 'Yale: ngóh', 'Cantonese Pinyin: ngo', 'Guangdong Romanization: ngo', 'IPA : /ŋɔː¹³/', '(Taishanese, Taicheng)', 'Wiktionary: ngoi, ngo, ngoi', 'IPA : /ᵑgᵘɔi³³/, /ᵑgᵘɔ²¹/, /ᵑgᵘɔi²¹/', 'ngoi1 - “I; my” (vernacular);', 'ngo4 - “I” (literary);', 'ngoi4 - “we; our”.', 'Gan', '(Nanchang)', 'Wiktionary: ngo', 'IPA : /ŋo²¹³/', 'Hakka', '(Sixian, incl. Miaoli and Meinong)', 'Pha̍k-fa-sṳ: ngô', 'Hakka Romanization System: ngo´', 'Hagfa Pinyim: ngo', 'IPA: /ŋo²⁴/', '(Meixian)', 'Guangdong: ngo', 'IPA: /ŋo⁴⁴/', 'Jin', '(Taiyuan)', 'Wiktionary: ghe', 'IPA (old-style): /ɣɤ⁵³/', 'Min Bei', \"(Jian'ou)\", 'Kienning Colloquial Romanized: uòi', 'IPA : /uɛ⁴²/', 'Min Dong', '(Fuzhou)', 'Bàng-uâ-cê: nguāi / ngō̤', 'IPA : /ŋuai³³/, /ŋo³³/', 'nguāi - vernacular;', 'ngō̤ - literary.', 'Min Nan', '(Hokkien: Xiamen, Quanzhou, Zhangzhou, General Taiwanese, Singapore)', 'Pe̍h-ōe-jī: góa', 'Tâi-lô: guá', 'Phofsit Daibuun: goar', 'IPA (Quanzhou): /gua⁵⁵⁴/', 'IPA (Xiamen, Zhangzhou, Taipei): /gua⁵³/', 'IPA (Singapore): /gua⁴²/', 'IPA (Kaohsiung): /gua⁴¹/', '(Hokkien: Penang)', 'Pe̍h-ōe-jī: óa', 'Tâi-lô: uá', 'Phofsit Daibuun: oar', 'IPA (Penang): /ua⁴⁴⁵/', '(Hokkien: Xiamen, Quanzhou, Zhangzhou, General Taiwanese)', 'Pe̍h-ōe-jī: ngó͘', 'Tâi-lô: ngóo', 'Phofsit Daibuun: ngor', 'IPA (Quanzhou): /ŋɔ̃⁵⁵⁴/', 'IPA (Xiamen, Zhangzhou, Taipei): /ŋɔ̃⁵³/', 'IPA (Kaohsiung): /ŋɔ̃⁴¹/', 'góa/óa - vernacular;', 'ngó͘ - literary.', '(Teochew)', \"Peng'im: ua / ngo\", 'Pe̍h-ōe-jī-like: uá / ngó', 'IPA : /ua⁵²/, /ŋo⁵²/', 'ua2 - vernacular;', 'ngo2 - literary.', 'Wu', '(Shanghainese)', 'Wiktionary: ngu (T3); hhu (T3)', 'IPA : /ŋv̩ʷ²³/, /ɦv̩ʷ²³/', 'Xiang', '(Changsha)', 'Wiktionary: ngo', 'IPA : /ŋo⁴¹/', 'Middle Chinese: /ŋɑ/▼', 'Old Chinese▼(Baxter–Sagart): /*ŋˤajʔ/(Zhengzhang): /*ŋaːlʔ/']\n"
     ]
    }
   ],
   "source": [
    "parser = WiktionaryParser()\n",
    "word = parser.fetch('我', 'chinese')\n",
    "print(word[0]['pronunciations']['text'])"
   ]
  },
  {
   "cell_type": "markdown",
   "metadata": {},
   "source": [
    "For this project, the first mandarin pronunciation only is required"
   ]
  },
  {
   "cell_type": "code",
   "execution_count": 3,
   "metadata": {
    "collapsed": false
   },
   "outputs": [
    {
     "name": "stdout",
     "output_type": "stream",
     "text": [
      "Mandarin(Standard)(Pinyin): wǒ, ě (wo, e)(Zhuyin): ㄨㄛˇ, ㄜˇ(Chengdu, SP): ngo(Dungan, Cyrillic): вә (və, II)\n"
     ]
    }
   ],
   "source": [
    "print(word[0]['pronunciations']['text'][0])"
   ]
  },
  {
   "cell_type": "markdown",
   "metadata": {},
   "source": [
    "The pinyin wǒ indicates that the character 我 is pronounced using the third tone\n",
    "\n",
    "¯ first tone\n",
    "\n",
    "´ second tone\n",
    "\n",
    "ˇ third tone\n",
    "\n",
    "\\` fourth tone\n",
    "\n",
    "This pinyin can be obtained as follows:"
   ]
  },
  {
   "cell_type": "code",
   "execution_count": 4,
   "metadata": {
    "collapsed": false
   },
   "outputs": [
    {
     "name": "stdout",
     "output_type": "stream",
     "text": [
      "wǒ,\n"
     ]
    }
   ],
   "source": [
    "pinyin = word[0]['pronunciations']['text'][0].split(\":\")[1].split()[0]\n",
    "print(pinyin)"
   ]
  },
  {
   "cell_type": "markdown",
   "metadata": {},
   "source": [
    "We can extract the tone number using regular expression"
   ]
  },
  {
   "cell_type": "code",
   "execution_count": 5,
   "metadata": {
    "collapsed": true
   },
   "outputs": [],
   "source": [
    "def get_tone(sylable):\n",
    "    if re.search(\"[āēīōūǖĀĒĪŌŪǕ]\", sylable):\n",
    "        tone = 1\n",
    "    elif re.search(\"[áéíóúǘÁÉÍÓÚǗ]\", sylable):\n",
    "        tone = 2\n",
    "    elif re.search(\"[ǎěǐǒǔǚǍĚǏǑǓǙ]\", sylable):\n",
    "        tone = 3\n",
    "    elif re.search(\"[àèìòùǜÀÈÌÒÙǛ]\", sylable):\n",
    "        tone = 4\n",
    "    elif re.search(\"[aeiouüAEIOUÜ]\", sylable):\n",
    "        tone = 5\n",
    "    else:\n",
    "        tone = None\n",
    "        print(\"Tone error: \", sylable)\n",
    "    return tone"
   ]
  },
  {
   "cell_type": "code",
   "execution_count": 6,
   "metadata": {
    "collapsed": false
   },
   "outputs": [
    {
     "data": {
      "text/plain": [
       "3"
      ]
     },
     "execution_count": 6,
     "metadata": {},
     "output_type": "execute_result"
    }
   ],
   "source": [
    "get_tone(pinyin)"
   ]
  },
  {
   "cell_type": "markdown",
   "metadata": {},
   "source": [
    "The wiktionary parser also provides links to pronunciation audio files if available (availability is limited). The first of these links is to the standard mandarin pronunciation."
   ]
  },
  {
   "cell_type": "code",
   "execution_count": 7,
   "metadata": {
    "collapsed": false
   },
   "outputs": [
    {
     "data": {
      "text/plain": [
       "['//upload.wikimedia.org/wikipedia/commons/4/42/Zh-w%C7%92.ogg',\n",
       " '//upload.wikimedia.org/wikipedia/commons/transcoded/7/70/Cdo-fzho%2C_%E6%88%91.ogg/Cdo-fzho%2C_%E6%88%91.ogg.mp3',\n",
       " '//upload.wikimedia.org/wikipedia/commons/0/02/Taiwanese-The_Consonant_g.ogg']"
      ]
     },
     "execution_count": 7,
     "metadata": {},
     "output_type": "execute_result"
    }
   ],
   "source": [
    "word[0]['pronunciations']['audio']"
   ]
  },
  {
   "cell_type": "markdown",
   "metadata": {},
   "source": [
    "We can download the audio file using the requests module"
   ]
  },
  {
   "cell_type": "code",
   "execution_count": 8,
   "metadata": {
    "collapsed": false
   },
   "outputs": [],
   "source": [
    "url = 'https:' + word[0]['pronunciations']['audio'][0]\n",
    "r = requests.get(url, allow_redirects=True)\n",
    "with open(r'pronunciation.ogg', 'wb') as file:\n",
    "    file.write(r.content)"
   ]
  },
  {
   "cell_type": "markdown",
   "metadata": {},
   "source": [
    "These steps are combined into the following function"
   ]
  },
  {
   "cell_type": "code",
   "execution_count": 9,
   "metadata": {
    "collapsed": true
   },
   "outputs": [],
   "source": [
    "def get_pronuncitation(character, verbose=False):\n",
    "    \"\"\"\n",
    "    Returns the standard pronunciation tone for the provided character\n",
    "    If no audio files are available for the character return False\n",
    "    Also saves the related audio file as ...\\pronunciation.ogg\n",
    "    \"\"\"\n",
    "    try:\n",
    "        word = parser.fetch(character, 'chinese')\n",
    "        if len(word[0]['pronunciations']['audio']) > 0:\n",
    "            if verbose:\n",
    "                print(word[0]['pronunciations']['text'][0])\n",
    "                print(\"tone: \", get_tone(word[0]['pronunciations']['text'][0].split(\":\")[1].split()[0]))\n",
    "            tone = get_tone(word[0]['pronunciations']['text'][0].split(\":\")[1].split()[0])\n",
    "            url = 'https:' + word[0]['pronunciations']['audio'][0]\n",
    "            r = requests.get(url, allow_redirects=True)\n",
    "            with open(r'pronunciation.ogg', 'wb') as file:\n",
    "                file.write(r.content)\n",
    "            return tone\n",
    "        else:\n",
    "            if verbose:\n",
    "                print(\"No audio file available for this hanzi\")\n",
    "            return False\n",
    "    except:\n",
    "        return False"
   ]
  },
  {
   "cell_type": "code",
   "execution_count": 10,
   "metadata": {
    "collapsed": false
   },
   "outputs": [
    {
     "data": {
      "text/plain": [
       "3"
      ]
     },
     "execution_count": 10,
     "metadata": {},
     "output_type": "execute_result"
    }
   ],
   "source": [
    "get_pronuncitation(\"我\")"
   ]
  },
  {
   "cell_type": "markdown",
   "metadata": {},
   "source": [
    "## 2. Audio File Structure\n",
    "\n",
    "In this section we use the signal spectogram to view differences between tones"
   ]
  },
  {
   "cell_type": "code",
   "execution_count": 11,
   "metadata": {
    "collapsed": true
   },
   "outputs": [],
   "source": [
    "from pydub import AudioSegment\n",
    "from pydub import silence\n",
    "import numpy as np\n",
    "from scipy import signal\n",
    "from scipy.io import wavfile\n",
    "from scipy.stats import mode\n",
    "import matplotlib.pyplot as plt\n",
    "import itertools\n",
    "%matplotlib inline"
   ]
  },
  {
   "cell_type": "markdown",
   "metadata": {},
   "source": [
    "The pydub module can be used to play the audio file, convert it to .wav format, and perform various other useful functions"
   ]
  },
  {
   "cell_type": "code",
   "execution_count": 12,
   "metadata": {
    "collapsed": false
   },
   "outputs": [
    {
     "data": {
      "text/html": [
       "\n",
       "                    <audio controls>\n",
       "                        <source src=\"data:audio/mpeg;base64,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\" type=\"audio/mpeg\"/>\n",
       "                        Your browser does not support the audio element.\n",
       "                    </audio>\n",
       "                  "
      ],
      "text/plain": [
       "<pydub.audio_segment.AudioSegment at 0x2c9b4a6ff60>"
      ]
     },
     "execution_count": 12,
     "metadata": {},
     "output_type": "execute_result"
    }
   ],
   "source": [
    "AudioSegment.from_ogg(r'pronunciation.ogg')"
   ]
  },
  {
   "cell_type": "code",
   "execution_count": 13,
   "metadata": {
    "collapsed": false
   },
   "outputs": [
    {
     "data": {
      "text/html": [
       "\n",
       "                    <audio controls>\n",
       "                        <source src=\"data:audio/mpeg;base64,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\" type=\"audio/mpeg\"/>\n",
       "                        Your browser does not support the audio element.\n",
       "                    </audio>\n",
       "                  "
      ],
      "text/plain": [
       "<pydub.audio_segment.AudioSegment at 0x2c9b4a6fa20>"
      ]
     },
     "execution_count": 13,
     "metadata": {},
     "output_type": "execute_result"
    }
   ],
   "source": [
    "sound = AudioSegment.from_ogg(r'pronunciation.ogg')\n",
    "sound = silence.split_on_silence(sound)[0]\n",
    "sound.export(r'pronunciation.wav', format=\"wav\")\n",
    "sound"
   ]
  },
  {
   "cell_type": "code",
   "execution_count": 14,
   "metadata": {
    "collapsed": true
   },
   "outputs": [],
   "source": [
    "fs, data = wavfile.read(r'pronunciation.wav')"
   ]
  },
  {
   "cell_type": "markdown",
   "metadata": {},
   "source": [
    "Use scipy.signal.spectrogram to plot a spectogram of the audio file"
   ]
  },
  {
   "cell_type": "code",
   "execution_count": 15,
   "metadata": {
    "collapsed": false
   },
   "outputs": [
    {
     "name": "stderr",
     "output_type": "stream",
     "text": [
      "C:\\Users\\Chris\\Anaconda3\\lib\\site-packages\\scipy\\fftpack\\basic.py:154: FutureWarning: Using a non-tuple sequence for multidimensional indexing is deprecated; use `arr[tuple(seq)]` instead of `arr[seq]`. In the future this will be interpreted as an array index, `arr[np.array(seq)]`, which will result either in an error or a different result.\n",
      "  z[index] = x\n"
     ]
    },
    {
     "data": {
      "text/plain": [
       "<matplotlib.collections.QuadMesh at 0x2c9aaea3cf8>"
      ]
     },
     "execution_count": 15,
     "metadata": {},
     "output_type": "execute_result"
    },
    {
     "data": {
      "image/png": "[encoded data removed]",
      "text/plain": [
       "<matplotlib.figure.Figure at 0x2c9b4a7e0f0>"
      ]
     },
     "metadata": {},
     "output_type": "display_data"
    }
   ],
   "source": [
    "fig, ax = plt.subplots(2, figsize=(10,10))\n",
    "ax[0].plot(data)\n",
    "f, t, Sxx = signal.spectrogram(data, fs, nperseg=1024*2, nfft=1024*4)\n",
    "\n",
    "ax[1].pcolormesh(t, f, Sxx)"
   ]
  },
  {
   "cell_type": "markdown",
   "metadata": {},
   "source": [
    "Frequencies with relevant data are all appearing at the bottom of the figure. We can reduce the frequency to a maximum of 500 to view the relevant data"
   ]
  },
  {
   "cell_type": "code",
   "execution_count": 16,
   "metadata": {
    "collapsed": false
   },
   "outputs": [
    {
     "name": "stdout",
     "output_type": "stream",
     "text": [
      "(46,)\n"
     ]
    },
    {
     "name": "stderr",
     "output_type": "stream",
     "text": [
      "C:\\Users\\Chris\\Anaconda3\\lib\\site-packages\\scipy\\fftpack\\basic.py:154: FutureWarning: Using a non-tuple sequence for multidimensional indexing is deprecated; use `arr[tuple(seq)]` instead of `arr[seq]`. In the future this will be interpreted as an array index, `arr[np.array(seq)]`, which will result either in an error or a different result.\n",
      "  z[index] = x\n"
     ]
    },
    {
     "data": {
      "text/plain": [
       "<matplotlib.collections.QuadMesh at 0x2c9b815b710>"
      ]
     },
     "execution_count": 16,
     "metadata": {},
     "output_type": "execute_result"
    },
    {
     "data": {
      "image/png": "[encoded data removed]",
      "text/plain": [
       "<matplotlib.figure.Figure at 0x2c9b7db9c88>"
      ]
     },
     "metadata": {},
     "output_type": "display_data"
    }
   ],
   "source": [
    "fig = plt.figure(figsize=(10,5))\n",
    "\n",
    "f, t, Sxx = signal.spectrogram(data, fs, nperseg=1024, nfft=1024*10)\n",
    "\n",
    "#Trim the frequency domain\n",
    "bound = len([freq for freq in f if freq < 500])\n",
    "f = f[:bound]\n",
    "Sxx = Sxx[:bound]\n",
    "print(t.shape)\n",
    "plt.pcolormesh(t, f, Sxx)"
   ]
  },
  {
   "cell_type": "markdown",
   "metadata": {},
   "source": [
    "The third tone structure is clear from this figure. However we can also trim the time domain to remove what appears to be silence before and after the sound."
   ]
  },
  {
   "cell_type": "code",
   "execution_count": 17,
   "metadata": {
    "collapsed": false
   },
   "outputs": [
    {
     "name": "stderr",
     "output_type": "stream",
     "text": [
      "C:\\Users\\Chris\\Anaconda3\\lib\\site-packages\\scipy\\fftpack\\basic.py:154: FutureWarning: Using a non-tuple sequence for multidimensional indexing is deprecated; use `arr[tuple(seq)]` instead of `arr[seq]`. In the future this will be interpreted as an array index, `arr[np.array(seq)]`, which will result either in an error or a different result.\n",
      "  z[index] = x\n"
     ]
    },
    {
     "data": {
      "text/plain": [
       "<matplotlib.collections.QuadMesh at 0x2c9b7bb1ba8>"
      ]
     },
     "execution_count": 17,
     "metadata": {},
     "output_type": "execute_result"
    },
    {
     "data": {
      "image/png": "[encoded data removed]",
      "text/plain": [
       "<matplotlib.figure.Figure at 0x2c9b7f8a668>"
      ]
     },
     "metadata": {},
     "output_type": "display_data"
    }
   ],
   "source": [
    "fig = plt.figure(figsize=(10,5))\n",
    "\n",
    "f, t, Sxx = signal.spectrogram(data, fs, nperseg=1024*2, nfft=1024*4)\n",
    "\n",
    "#Trim the frequency domain\n",
    "bound = len([freq for freq in f if freq < 500])\n",
    "f = f[:bound]\n",
    "Sxx = Sxx[:bound]\n",
    "\n",
    "#Trim leading time domain\n",
    "sound_present = [np.max(column) > np.max(Sxx)*0.05 for column in np.transpose(Sxx)]\n",
    "start_index = sound_present.index(True)\n",
    "end_index = len(sound_present) - sound_present[::-1].index(True)\n",
    "t = t[start_index:end_index]\n",
    "Sxx = np.transpose(np.transpose(Sxx)[start_index:end_index])\n",
    "\n",
    "plt.pcolormesh(t, f, Sxx)"
   ]
  },
  {
   "cell_type": "markdown",
   "metadata": {},
   "source": [
    "A vertical cross section of the figure shows the frequency structure at a specific time point. The peaks at ~129 and ~257 correspond to the two lighter colored sections on the far left of the previous figure."
   ]
  },
  {
   "cell_type": "code",
   "execution_count": 18,
   "metadata": {
    "collapsed": false
   },
   "outputs": [
    {
     "data": {
      "image/png": "[encoded data removed]",
      "text/plain": [
       "<matplotlib.figure.Figure at 0x2c9b7dce470>"
      ]
     },
     "metadata": {},
     "output_type": "display_data"
    },
    {
     "name": "stdout",
     "output_type": "stream",
     "text": [
      "Signal peaks were found at the following frequencies: [107.421875, 118.1640625, 225.5859375, 236.328125, 343.75, 354.4921875, 451.171875]\n"
     ]
    },
    {
     "name": "stderr",
     "output_type": "stream",
     "text": [
      "C:\\Users\\Chris\\Anaconda3\\lib\\site-packages\\scipy\\stats\\stats.py:1626: FutureWarning: Using a non-tuple sequence for multidimensional indexing is deprecated; use `arr[tuple(seq)]` instead of `arr[seq]`. In the future this will be interpreted as an array index, `arr[np.array(seq)]`, which will result either in an error or a different result.\n",
      "  return np.add.reduce(sorted[indexer] * weights, axis=axis) / sumval\n"
     ]
    }
   ],
   "source": [
    "time=2\n",
    "spectrum = np.transpose(Sxx)[time]\n",
    "plt.plot(f, spectrum)\n",
    "plt.show()\n",
    "peaks = [f[t] for t in signal.find_peaks_cwt(np.transpose(Sxx)[time], np.arange(1,10))]\n",
    "print(\"Signal peaks were found at the following frequencies:\", peaks)"
   ]
  },
  {
   "cell_type": "markdown",
   "metadata": {},
   "source": [
    "To map the tone lines, we first determine the peaks at each time point. From now on we will use the index of the frequency domain f for simplicity (e.g., f[12] = 128.90625)"
   ]
  },
  {
   "cell_type": "code",
   "execution_count": 19,
   "metadata": {
    "collapsed": false
   },
   "outputs": [
    {
     "name": "stdout",
     "output_type": "stream",
     "text": [
      "[[12, 23], [11, 22], [10, 21, 31, 41], [10, 20, 30], [9, 19, 38], [9, 18, 27, 37], [9, 18], [10, 19, 20, 39], [10, 20, 41], [10, 20]]\n"
     ]
    },
    {
     "name": "stderr",
     "output_type": "stream",
     "text": [
      "C:\\Users\\Chris\\Anaconda3\\lib\\site-packages\\scipy\\stats\\stats.py:1626: FutureWarning: Using a non-tuple sequence for multidimensional indexing is deprecated; use `arr[tuple(seq)]` instead of `arr[seq]`. In the future this will be interpreted as an array index, `arr[np.array(seq)]`, which will result either in an error or a different result.\n",
      "  return np.add.reduce(sorted[indexer] * weights, axis=axis) / sumval\n"
     ]
    }
   ],
   "source": [
    "spectrum_peaks = []\n",
    "search_window = 3\n",
    "for spectrum in np.transpose(Sxx):\n",
    "    peaks = []\n",
    "    for peak in signal.find_peaks_cwt(spectrum, np.arange(1,10)):\n",
    "        peak = peak - search_window + np.argmax(spectrum[max(peak - search_window, 0):min(peak + search_window, len(spectrum))])\n",
    "        if spectrum[peak]/np.max(Sxx) > 0.05:\n",
    "            peaks.append(peak)\n",
    "    \n",
    "    # find_peaks_cwt provides the widths argument; \n",
    "    # if no peaks are found for widths=np.arange(1,10) try widths=np.arange(5,10)\n",
    "    if len(peaks) == 0:\n",
    "            for peak in signal.find_peaks_cwt(spectrum, np.arange(5,10)):\n",
    "                peak = peak - search_window + np.argmax(spectrum[max(peak - search_window, 0):min(peak + search_window, len(spectrum))])\n",
    "                if spectrum[peak]/np.max(Sxx) > 0.05:\n",
    "                    peaks.append(peak)\n",
    "    if len(peaks) > 0:\n",
    "        peaks = sorted(list(set(peaks)))\n",
    "        spectrum_peaks.append(peaks)\n",
    "print(spectrum_peaks)"
   ]
  },
  {
   "cell_type": "markdown",
   "metadata": {},
   "source": [
    "Finally, we must use the extracted list of peaks to obtain a list of tone lines"
   ]
  },
  {
   "cell_type": "code",
   "execution_count": 20,
   "metadata": {
    "collapsed": false
   },
   "outputs": [
    {
     "data": {
      "image/png": "[encoded data removed]",
      "text/plain": [
       "<matplotlib.figure.Figure at 0x2c9ac869dd8>"
      ]
     },
     "metadata": {},
     "output_type": "display_data"
    }
   ],
   "source": [
    "def contains_sublist(lst, sublst):\n",
    "    n = len(sublst)\n",
    "    return any((sublst == lst[i:i+n]) for i in range(len(lst)-n+1))\n",
    "\n",
    "max_lines = max([len(peaks) for peaks in spectrum_peaks])\n",
    "start_spectrum_indices = []\n",
    "for i in range(max_lines):\n",
    "    start_spectrum_indices.append([len(peaks) > i for peaks in spectrum_peaks].index(True))\n",
    "\n",
    "lines = []\n",
    "window = 3\n",
    "\n",
    "for i in range(max_lines):\n",
    "    line=[]\n",
    "    last_found = spectrum_peaks[start_spectrum_indices[i]][0]\n",
    "    line.append(spectrum_peaks[start_spectrum_indices[i]].pop(0))\n",
    "    for j in range(start_spectrum_indices[i] + 1, len(spectrum_peaks)-start_spectrum_indices[i]):\n",
    "        if any([np.abs(peak-last_found) < window for peak in spectrum_peaks[j]]):\n",
    "            next_item = spectrum_peaks[j].pop(spectrum_peaks[j].index([peak for peak in spectrum_peaks[j] if np.abs(peak-last_found) < window][0]))\n",
    "            line.append(next_item)\n",
    "            last_found = next_item\n",
    "        else:\n",
    "            line.append(None)\n",
    "    \n",
    "    while line[-1] == None:\n",
    "        line.pop()\n",
    "    \n",
    "    if any([len([item for item in i if item])==2 for i in itertools.combinations(line,2) if contains_sublist(line, list(i))]):\n",
    "        lines.append(line)\n",
    "\n",
    "fig, ax = plt.subplots(len(lines),figsize=(10,10))\n",
    "for i, line in enumerate(lines):\n",
    "    ax[i].plot(f[:len(line)], [f[index] if index else None for index in line])"
   ]
  },
  {
   "cell_type": "markdown",
   "metadata": {},
   "source": [
    "The above steps are combined into the following functions"
   ]
  },
  {
   "cell_type": "code",
   "execution_count": 21,
   "metadata": {
    "collapsed": true
   },
   "outputs": [],
   "source": [
    "def get_spectrum_peaks(path):\n",
    "    fs, data = wavfile.read(path)\n",
    "    if len(data.shape) > 1:\n",
    "        data = np.transpose(data)[0]\n",
    "    f, t, Sxx = signal.spectrogram(data, fs, nperseg=1024*2, nfft=1024*4)\n",
    "    \n",
    "    #Trim the frequency domain\n",
    "    bound = len([freq for freq in f if freq < 500])\n",
    "    f = f[:bound]\n",
    "    Sxx = Sxx[:bound]\n",
    "    \n",
    "    #Trim leading time domain\n",
    "    sound_present = [np.max(column) > np.max(Sxx)*0.05 for column in np.transpose(Sxx)]\n",
    "    start_index = sound_present.index(True)\n",
    "    end_index = len(sound_present) - sound_present[::-1].index(True)\n",
    "    t = t[start_index:end_index]\n",
    "    Sxx = np.transpose(np.transpose(Sxx)[start_index:end_index])\n",
    "    \n",
    "    spectrum_peaks = []\n",
    "    search_window = 3\n",
    "    for spectrum in np.transpose(Sxx):\n",
    "        peaks = []\n",
    "        for peak in signal.find_peaks_cwt(spectrum, np.arange(1,10)):\n",
    "            peak = peak - search_window + np.argmax(spectrum[max(peak - search_window, 0):min(peak + search_window, len(spectrum))])\n",
    "            if spectrum[peak]/np.max(Sxx) > 0.05:\n",
    "                peaks.append(peak)\n",
    "        if len(peaks) == 0:\n",
    "                for peak in signal.find_peaks_cwt(spectrum, np.arange(5,10)):\n",
    "                    peak = peak - search_window + np.argmax(spectrum[max(peak - search_window, 0):min(peak + search_window, len(spectrum))])\n",
    "                    if spectrum[peak]/np.max(Sxx) > 0.05:\n",
    "                        peaks.append(peak)\n",
    "        if len(peaks) > 0:\n",
    "            peaks = sorted(list(set(peaks)))\n",
    "            spectrum_peaks.append(peaks)\n",
    "    \n",
    "    return spectrum_peaks, f, t, Sxx"
   ]
  },
  {
   "cell_type": "code",
   "execution_count": 22,
   "metadata": {
    "collapsed": true
   },
   "outputs": [],
   "source": [
    "def get_tone_lines(spectrum_peaks, window=3):\n",
    "    max_lines = max([len(peaks) for peaks in spectrum_peaks])\n",
    "    start_spectrum_indices = []\n",
    "    for i in range(max_lines):\n",
    "        start_spectrum_indices.append([len(peaks) > i for peaks in spectrum_peaks].index(True))\n",
    "\n",
    "    lines = []\n",
    "    \n",
    "    def contains_sublist(lst, sublst):\n",
    "        n = len(sublst)\n",
    "        return any((sublst == lst[i:i+n]) for i in range(len(lst)-n+1))\n",
    "    \n",
    "    for i in range(max_lines):\n",
    "        line=[]\n",
    "        last_found = spectrum_peaks[start_spectrum_indices[i]][0]\n",
    "        line.append(spectrum_peaks[start_spectrum_indices[i]].pop(0))\n",
    "        for j in range(start_spectrum_indices[i] + 1, len(spectrum_peaks)-start_spectrum_indices[i]):\n",
    "            #line, last_found = update_line(spectrum_peaks[j], last_found, line, window=3)\n",
    "            if any([np.abs(peak-last_found) < window for peak in spectrum_peaks[j]]):\n",
    "                next_item = spectrum_peaks[j].pop(spectrum_peaks[j].index([peak for peak in spectrum_peaks[j] if np.abs(peak-last_found) < window][0]))\n",
    "                line.append(next_item)\n",
    "                last_found = next_item\n",
    "            else:\n",
    "                line.append(None)\n",
    "    \n",
    "        while line[-1] == None:\n",
    "            line.pop()\n",
    "            \n",
    "        if any([len([item for item in i if item])==2 for i in itertools.combinations(line,2) if contains_sublist(line, list(i))]):\n",
    "            lines.append(line)\n",
    "            \n",
    "    return lines"
   ]
  },
  {
   "cell_type": "markdown",
   "metadata": {},
   "source": [
    "### A summary of the project so far"
   ]
  },
  {
   "cell_type": "code",
   "execution_count": 23,
   "metadata": {
    "collapsed": false
   },
   "outputs": [
    {
     "name": "stderr",
     "output_type": "stream",
     "text": [
      "C:\\Users\\Chris\\Anaconda3\\lib\\site-packages\\scipy\\fftpack\\basic.py:154: FutureWarning: Using a non-tuple sequence for multidimensional indexing is deprecated; use `arr[tuple(seq)]` instead of `arr[seq]`. In the future this will be interpreted as an array index, `arr[np.array(seq)]`, which will result either in an error or a different result.\n",
      "  z[index] = x\n",
      "C:\\Users\\Chris\\Anaconda3\\lib\\site-packages\\scipy\\stats\\stats.py:1626: FutureWarning: Using a non-tuple sequence for multidimensional indexing is deprecated; use `arr[tuple(seq)]` instead of `arr[seq]`. In the future this will be interpreted as an array index, `arr[np.array(seq)]`, which will result either in an error or a different result.\n",
      "  return np.add.reduce(sorted[indexer] * weights, axis=axis) / sumval\n"
     ]
    },
    {
     "data": {
      "image/png": "[encoded data removed]",
      "text/plain": [
       "<matplotlib.figure.Figure at 0x2c9b4a6f908>"
      ]
     },
     "metadata": {},
     "output_type": "display_data"
    }
   ],
   "source": [
    "character = '我'\n",
    "\n",
    "pronunciation = get_pronuncitation(character)\n",
    "\n",
    "if pronunciation:\n",
    "    sound = AudioSegment.from_ogg(r'pronunciation.ogg')\n",
    "    silences = silence.split_on_silence(sound)\n",
    "    if len(silences) == 1:\n",
    "        sound = silences[0]\n",
    "    sound.export(r'pronunciation.wav', format=\"wav\")\n",
    "\n",
    "    spectrum_peaks, f, t, Sxx = get_spectrum_peaks(r'pronunciation.wav')\n",
    "    \n",
    "    lines = get_tone_lines(spectrum_peaks, window=3)\n",
    "    \n",
    "    if len(lines) == 0:\n",
    "        spectrum_peaks, f, t, Sxx = get_spectrum_peaks(r'pronunciation.wav')\n",
    "        lines = get_tone_lines(spectrum_peaks, window=6)\n",
    "        \n",
    "fig, ax = plt.subplots(len(lines),figsize=(10,10))\n",
    "for i, line in enumerate(lines):\n",
    "    ax[i].plot(f[:len(line)], [f[index] if index else None for index in line])"
   ]
  },
  {
   "cell_type": "markdown",
   "metadata": {},
   "source": [
    "## 3. Feature Extraction\n",
    "\n",
    "Having extracted tone lines for the character pronunciation, we use the lines to determine various features that may be useful for training the classifier"
   ]
  },
  {
   "cell_type": "code",
   "execution_count": 24,
   "metadata": {
    "collapsed": false
   },
   "outputs": [],
   "source": [
    "from scipy.interpolate import interp1d\n",
    "from scipy.misc import derivative\n",
    "from collections import Counter"
   ]
  },
  {
   "cell_type": "code",
   "execution_count": 25,
   "metadata": {
    "collapsed": false
   },
   "outputs": [
    {
     "name": "stdout",
     "output_type": "stream",
     "text": [
      "Tone line 0\n",
      "Number of turning points:  1\n",
      "Max-min difference:  3\n",
      "Average gradient:  -0.2\n",
      "...\n",
      "Tone line 1\n",
      "Number of turning points:  1\n",
      "Max-min difference:  5\n",
      "Average gradient:  -0.34\n",
      "...\n",
      "Tone line 2\n",
      "Number of turning points:  0\n",
      "Max-min difference:  1\n",
      "Average gradient:  -1.0\n",
      "...\n"
     ]
    }
   ],
   "source": [
    "turning_points = []\n",
    "max_min_difs = []\n",
    "avg_grads = []\n",
    "\n",
    "if len(lines) > 1:\n",
    "    for i in range(len(lines)):\n",
    "        print(\"Tone line\", i)\n",
    "        f2 = interp1d(np.linspace(0, len(lines[i])-1, len(lines[i])), lines[i], kind='linear')\n",
    "\n",
    "        diff = [round(derivative(f2, x, dx=1e-6)) for x in np.linspace(0.001, len(lines[i])-1.001, 50) if round(derivative(f2, x, dx=1e-6)) != 0]\n",
    "        turning_point = Counter([(np.sign(diff[i]) == -1 * np.sign(diff[i+1])) and diff[i] != 0 for i in range(len(diff)-1)])[True]\n",
    "        turning_points.append(turning_point)\n",
    "        print('Number of turning points: ', turning_point)\n",
    "        max_min_dif = max([point for point in lines[i] if point])-min([point for point in lines[i] if point])\n",
    "        max_min_difs.append(max_min_dif)\n",
    "        print('Max-min difference: ', max_min_dif)\n",
    "        avg_grad= np.mean([point for point in [round(derivative(f2, x, dx=1e-6)) for x in np.linspace(0.001, len(lines[i])-1.001, 50)] if not np.isnan(point)])\n",
    "        avg_grads.append(avg_grad)\n",
    "        print('Average gradient: ', avg_grad)\n",
    "        print('...')\n",
    "elif len(lines) == 1:\n",
    "    f2 = interp1d(np.linspace(0, len(lines[0])-1, len(lines[0])), lines[0], kind='linear')\n",
    "\n",
    "    diff = [round(derivative(f2, x, dx=1e-6)) for x in np.linspace(0.001, len(lines[0])-1.001, 50) if round(derivative(f2, x, dx=1e-6)) != 0]\n",
    "    turning_points = Counter([(np.sign(diff[i]) == -1 * np.sign(diff[i+1])) and diff[i] != 0 for i in range(len(diff)-1)])[True]\n",
    "    print('Number of turning points: ', turning_points)\n",
    "    print('Max-min difference: ', max([point for point in lines[0] if point])-min([point for point in lines[0] if point]))\n",
    "    print('Average gradient: ', np.mean([point for point in [round(derivative(f2, x, dx=1e-6)) for x in np.linspace(0.001, len(lines[0])-1.001, 50)] if not np.isnan(point)]))"
   ]
  },
  {
   "cell_type": "markdown",
   "metadata": {},
   "source": [
    "We can combine the statistics for the multiple tone lines. The following statistics are suggested:\n",
    "\n",
    "* mean gradient, \n",
    "* primary tone gradient, \n",
    "* mean max-min difference, \n",
    "* maximum max-min difference, \n",
    "* primary tone max-min difference, \n",
    "* mean number of turning points, \n",
    "* mode of turning points, \n",
    "* primary tone number of turning points."
   ]
  },
  {
   "cell_type": "markdown",
   "metadata": {},
   "source": [
    "## 4. Data Collection\n",
    "\n",
    "Build a dataset of these statistics for the audio files available on wiktionary. A list of the 1500 most common mandarin characters was obtained from https://sensiblechinese.com/common-chinese-characters/\n",
    "\n",
    "The list of characters are extracted from the text file, and looped over to build a dataframe with each row representing one character."
   ]
  },
  {
   "cell_type": "code",
   "execution_count": 26,
   "metadata": {
    "collapsed": true
   },
   "outputs": [],
   "source": [
    "import pandas as pd"
   ]
  },
  {
   "cell_type": "code",
   "execution_count": 27,
   "metadata": {
    "collapsed": true
   },
   "outputs": [],
   "source": [
    "with open(r'chars.txt', 'r', encoding='utf-8') as file:\n",
    "    lines = file.readlines()\n",
    "    \n",
    "chars = [line.split('\\t')[1] for line in lines]"
   ]
  },
  {
   "cell_type": "code",
   "execution_count": 28,
   "metadata": {
    "collapsed": true
   },
   "outputs": [],
   "source": [
    "from tqdm import tqdm_notebook"
   ]
  },
  {
   "cell_type": "markdown",
   "metadata": {},
   "source": [
    "Looping through all characters may take several minutes"
   ]
  },
  {
   "cell_type": "code",
   "execution_count": 29,
   "metadata": {
    "collapsed": false
   },
   "outputs": [
    {
     "name": "stderr",
     "output_type": "stream",
     "text": [
      "C:\\Users\\Chris\\Anaconda3\\lib\\site-packages\\scipy\\fftpack\\basic.py:154: FutureWarning: Using a non-tuple sequence for multidimensional indexing is deprecated; use `arr[tuple(seq)]` instead of `arr[seq]`. In the future this will be interpreted as an array index, `arr[np.array(seq)]`, which will result either in an error or a different result.\n",
      "  z[index] = x\n",
      "C:\\Users\\Chris\\Anaconda3\\lib\\site-packages\\scipy\\stats\\stats.py:1626: FutureWarning: Using a non-tuple sequence for multidimensional indexing is deprecated; use `arr[tuple(seq)]` instead of `arr[seq]`. In the future this will be interpreted as an array index, `arr[np.array(seq)]`, which will result either in an error or a different result.\n",
      "  return np.add.reduce(sorted[indexer] * weights, axis=axis) / sumval\n",
      "C:\\Users\\Chris\\Anaconda3\\lib\\site-packages\\ipykernel\\__main__.py:40: RuntimeWarning: invalid value encountered in sign\n"
     ]
    },
    {
     "name": "stdout",
     "output_type": "stream",
     "text": [
      "Decoding failed. ffmpeg returned error code: 1\n",
      "\n",
      "Output from ffmpeg/avlib:\n",
      "\n",
      "b'ffmpeg version N-94150-g231d0c819f Copyright (c) 2000-2019 the FFmpeg developers\\r\\n  built with gcc 9.1.1 (GCC) 20190621\\r\\n  configuration: --enable-gpl --enable-version3 --enable-sdl2 --enable-fontconfig --enable-gnutls --enable-iconv --enable-libass --enable-libdav1d --enable-libbluray --enable-libfreetype --enable-libmp3lame --enable-libopencore-amrnb --enable-libopencore-amrwb --enable-libopenjpeg --enable-libopus --enable-libshine --enable-libsnappy --enable-libsoxr --enable-libtheora --enable-libtwolame --enable-libvpx --enable-libwavpack --enable-libwebp --enable-libx264 --enable-libx265 --enable-libxml2 --enable-libzimg --enable-lzma --enable-zlib --enable-gmp --enable-libvidstab --enable-libvorbis --enable-libvo-amrwbenc --enable-libmysofa --enable-libspeex --enable-libxvid --enable-libaom --enable-libmfx --enable-amf --enable-ffnvcodec --enable-cuvid --enable-d3d11va --enable-nvenc --enable-nvdec --enable-dxva2 --enable-avisynth --enable-libopenmpt\\r\\n  libavutil      56. 30.100 / 56. 30.100\\r\\n  libavcodec     58. 53.101 / 58. 53.101\\r\\n  libavformat    58. 28.101 / 58. 28.101\\r\\n  libavdevice    58.  7.100 / 58.  7.100\\r\\n  libavfilter     7. 55.100 /  7. 55.100\\r\\n  libswscale      5.  4.101 /  5.  4.101\\r\\n  libswresample   3.  4.100 /  3.  4.100\\r\\n  libpostproc    55.  4.100 / 55.  4.100\\r\\npronunciation.ogg: End of file\\r\\n'\n",
      "Decoding failed. ffmpeg returned error code: 1\n",
      "\n",
      "Output from ffmpeg/avlib:\n",
      "\n",
      "b'ffmpeg version N-94150-g231d0c819f Copyright (c) 2000-2019 the FFmpeg developers\\r\\n  built with gcc 9.1.1 (GCC) 20190621\\r\\n  configuration: --enable-gpl --enable-version3 --enable-sdl2 --enable-fontconfig --enable-gnutls --enable-iconv --enable-libass --enable-libdav1d --enable-libbluray --enable-libfreetype --enable-libmp3lame --enable-libopencore-amrnb --enable-libopencore-amrwb --enable-libopenjpeg --enable-libopus --enable-libshine --enable-libsnappy --enable-libsoxr --enable-libtheora --enable-libtwolame --enable-libvpx --enable-libwavpack --enable-libwebp --enable-libx264 --enable-libx265 --enable-libxml2 --enable-libzimg --enable-lzma --enable-zlib --enable-gmp --enable-libvidstab --enable-libvorbis --enable-libvo-amrwbenc --enable-libmysofa --enable-libspeex --enable-libxvid --enable-libaom --enable-libmfx --enable-amf --enable-ffnvcodec --enable-cuvid --enable-d3d11va --enable-nvenc --enable-nvdec --enable-dxva2 --enable-avisynth --enable-libopenmpt\\r\\n  libavutil      56. 30.100 / 56. 30.100\\r\\n  libavcodec     58. 53.101 / 58. 53.101\\r\\n  libavformat    58. 28.101 / 58. 28.101\\r\\n  libavdevice    58.  7.100 / 58.  7.100\\r\\n  libavfilter     7. 55.100 /  7. 55.100\\r\\n  libswscale      5.  4.101 /  5.  4.101\\r\\n  libswresample   3.  4.100 /  3.  4.100\\r\\n  libpostproc    55.  4.100 / 55.  4.100\\r\\npronunciation.ogg: End of file\\r\\n'\n",
      "\n"
     ]
    },
    {
     "data": {
      "text/html": [
       "<div>\n",
       "<table border=\"1\" class=\"dataframe\">\n",
       "  <thead>\n",
       "    <tr style=\"text-align: right;\">\n",
       "      <th></th>\n",
       "      <th>Sxx</th>\n",
       "      <th>avg_grads</th>\n",
       "      <th>frequency</th>\n",
       "      <th>hanzi</th>\n",
       "      <th>lines</th>\n",
       "      <th>max_min_difs</th>\n",
       "      <th>time</th>\n",
       "      <th>tone</th>\n",
       "      <th>turning_points</th>\n",
       "    </tr>\n",
       "  </thead>\n",
       "  <tbody>\n",
       "    <tr>\n",
       "      <th>0</th>\n",
       "      <td>[[7728.451, 7436.4727, 997.15375, 0.8600962, 9...</td>\n",
       "      <td>[-0.2, -0.34, -1.0]</td>\n",
       "      <td>[0.0, 10.7421875, 21.484375, 32.2265625, 42.96...</td>\n",
       "      <td>我</td>\n",
       "      <td>[[12, 11, 10, 10, 9, 9, 9, 10, 10, 10], [23, 2...</td>\n",
       "      <td>[3, 5, 1]</td>\n",
       "      <td>[0.22690909090909092, 0.2676363636363636, 0.30...</td>\n",
       "      <td>3.0</td>\n",
       "      <td>[1, 1, 0]</td>\n",
       "    </tr>\n",
       "    <tr>\n",
       "      <th>1</th>\n",
       "      <td>[[3869.849, 9412.11, 1903.0175, 1944.4612, 406...</td>\n",
       "      <td>[-1.5]</td>\n",
       "      <td>[0.0, 10.7421875, 21.484375, 32.2265625, 42.96...</td>\n",
       "      <td>的</td>\n",
       "      <td>[[20, 19, 17]]</td>\n",
       "      <td>[3]</td>\n",
       "      <td>[0.22690909090909092, 0.2676363636363636, 0.30...</td>\n",
       "      <td>4.0</td>\n",
       "      <td>[0]</td>\n",
       "    </tr>\n",
       "    <tr>\n",
       "      <th>2</th>\n",
       "      <td>[[624.7778, 56.12505, 47187.285, 3510.1235, 12...</td>\n",
       "      <td>[0.2647058823529412, 0.1]</td>\n",
       "      <td>[0.0, 10.7421875, 21.484375, 32.2265625, 42.96...</td>\n",
       "      <td>你</td>\n",
       "      <td>[[12, 12, 12, 12, 11, 11, None, None, None, 10...</td>\n",
       "      <td>[3, 5]</td>\n",
       "      <td>[0.22690909090909092, 0.2676363636363636, 0.30...</td>\n",
       "      <td>3.0</td>\n",
       "      <td>[0, 4]</td>\n",
       "    </tr>\n",
       "    <tr>\n",
       "      <th>3</th>\n",
       "      <td>[[2161.7483, 152.5279, 2452.7324, 2910.2466], ...</td>\n",
       "      <td>[-1.0, 2.0]</td>\n",
       "      <td>[0.0, 10.7421875, 21.484375, 32.2265625, 42.96...</td>\n",
       "      <td>是</td>\n",
       "      <td>[[20, 19], [39, 41]]</td>\n",
       "      <td>[1, 2]</td>\n",
       "      <td>[0.3490909090909091, 0.38981818181818184, 0.43...</td>\n",
       "      <td>4.0</td>\n",
       "      <td>[0, 0]</td>\n",
       "    </tr>\n",
       "    <tr>\n",
       "      <th>4</th>\n",
       "      <td>[[4128.331, 1.1818495, 2070.6196, 5618.5806], ...</td>\n",
       "      <td>[0.0]</td>\n",
       "      <td>[0.0, 10.7421875, 21.484375, 32.2265625, 42.96...</td>\n",
       "      <td>了</td>\n",
       "      <td>[[11, 11]]</td>\n",
       "      <td>[0]</td>\n",
       "      <td>[0.22690909090909092, 0.2676363636363636, 0.30...</td>\n",
       "      <td>5.0</td>\n",
       "      <td>[0]</td>\n",
       "    </tr>\n",
       "  </tbody>\n",
       "</table>\n",
       "</div>"
      ],
      "text/plain": [
       "                                                 Sxx  \\\n",
       "0  [[7728.451, 7436.4727, 997.15375, 0.8600962, 9...   \n",
       "1  [[3869.849, 9412.11, 1903.0175, 1944.4612, 406...   \n",
       "2  [[624.7778, 56.12505, 47187.285, 3510.1235, 12...   \n",
       "3  [[2161.7483, 152.5279, 2452.7324, 2910.2466], ...   \n",
       "4  [[4128.331, 1.1818495, 2070.6196, 5618.5806], ...   \n",
       "\n",
       "                   avg_grads  \\\n",
       "0        [-0.2, -0.34, -1.0]   \n",
       "1                     [-1.5]   \n",
       "2  [0.2647058823529412, 0.1]   \n",
       "3                [-1.0, 2.0]   \n",
       "4                      [0.0]   \n",
       "\n",
       "                                           frequency hanzi  \\\n",
       "0  [0.0, 10.7421875, 21.484375, 32.2265625, 42.96...     我   \n",
       "1  [0.0, 10.7421875, 21.484375, 32.2265625, 42.96...     的   \n",
       "2  [0.0, 10.7421875, 21.484375, 32.2265625, 42.96...     你   \n",
       "3  [0.0, 10.7421875, 21.484375, 32.2265625, 42.96...     是   \n",
       "4  [0.0, 10.7421875, 21.484375, 32.2265625, 42.96...     了   \n",
       "\n",
       "                                               lines max_min_difs  \\\n",
       "0  [[12, 11, 10, 10, 9, 9, 9, 10, 10, 10], [23, 2...    [3, 5, 1]   \n",
       "1                                     [[20, 19, 17]]          [3]   \n",
       "2  [[12, 12, 12, 12, 11, 11, None, None, None, 10...       [3, 5]   \n",
       "3                               [[20, 19], [39, 41]]       [1, 2]   \n",
       "4                                         [[11, 11]]          [0]   \n",
       "\n",
       "                                                time  tone turning_points  \n",
       "0  [0.22690909090909092, 0.2676363636363636, 0.30...   3.0      [1, 1, 0]  \n",
       "1  [0.22690909090909092, 0.2676363636363636, 0.30...   4.0            [0]  \n",
       "2  [0.22690909090909092, 0.2676363636363636, 0.30...   3.0         [0, 4]  \n",
       "3  [0.3490909090909091, 0.38981818181818184, 0.43...   4.0         [0, 0]  \n",
       "4  [0.22690909090909092, 0.2676363636363636, 0.30...   5.0            [0]  "
      ]
     },
     "execution_count": 29,
     "metadata": {},
     "output_type": "execute_result"
    }
   ],
   "source": [
    "df = pd.DataFrame({\"hanzi\": [], \n",
    "                   \"tone\": [], \n",
    "                   \"time\": [], \n",
    "                   \"frequency\": [], \n",
    "                   \"Sxx\": [], \n",
    "                   \"lines\": [], \n",
    "                   \"turning_points\": [], \n",
    "                   \"max_min_difs\": [],\n",
    "                   \"avg_grads\": []})\n",
    "\n",
    "for char in tqdm_notebook(chars):\n",
    "    tone = get_pronuncitation(char,verbose=False)\n",
    "    if tone:\n",
    "        try:\n",
    "            sound = AudioSegment.from_ogg(r'pronunciation.ogg')\n",
    "        except Exception as e: \n",
    "            print(e)\n",
    "            pass\n",
    "        silences = silence.split_on_silence(sound)\n",
    "        if len(silences) == 1:\n",
    "            sound = silences[0]\n",
    "        sound.export(r'pronunciation.wav', format=\"wav\")\n",
    "\n",
    "        spectrum_peaks, f, t, Sxx = get_spectrum_peaks(r'pronunciation.wav')\n",
    "\n",
    "        lines = get_tone_lines(spectrum_peaks, window=3)\n",
    "        if len(lines) == 0:\n",
    "            spectrum_peaks, f, t, Sxx = get_spectrum_peaks(r'pronunciation.wav')\n",
    "            lines = get_tone_lines(spectrum_peaks, window=6)\n",
    "\n",
    "        turning_points = []\n",
    "        max_min_difs = []\n",
    "        avg_grads = []\n",
    "\n",
    "        if len(lines) > 0:\n",
    "            for i in range(len(lines)):\n",
    "                f2 = interp1d(np.linspace(0, len(lines[i])-1, len(lines[i])), lines[i], kind='linear')\n",
    "\n",
    "                diff = [round(derivative(f2, x, dx=1e-6)) for x in np.linspace(0.001, len(lines[i])-1.001, 50) if round(derivative(f2, x, dx=1e-6)) != 0]\n",
    "                turning_point = Counter([(np.sign(diff[i]) == -1 * np.sign(diff[i+1])) and diff[i] != 0 for i in range(len(diff)-1)])[True]\n",
    "                turning_points.append(turning_point)\n",
    "                max_min_dif = max([point for point in lines[i] if point])-min([point for point in lines[i] if point])\n",
    "                max_min_difs.append(max_min_dif)\n",
    "                avg_grad = np.mean([point for point in [round(derivative(f2, x, dx=1e-6)) for x in np.linspace(0.001, len(lines[i])-1.001, 50)] if not np.isnan(point)])\n",
    "                avg_grads.append(avg_grad)\n",
    "\n",
    "        df = df.append(pd.DataFrame({\"hanzi\": [char], \n",
    "                                     \"tone\": [tone], \n",
    "                                     \"time\": [t], \n",
    "                                     \"frequency\": [f], \n",
    "                                     \"Sxx\": [Sxx], \n",
    "                                     \"lines\": [lines],\n",
    "                                     \"turning_points\": [turning_points], \n",
    "                                     \"max_min_difs\": [max_min_difs],\n",
    "                                     \"avg_grads\": [avg_grads]}), ignore_index=True)\n",
    "df.head()"
   ]
  },
  {
   "cell_type": "markdown",
   "metadata": {},
   "source": [
    "Check whether lines were not properly obtained for each character; drop rows that did not obtain lines."
   ]
  },
  {
   "cell_type": "code",
   "execution_count": 36,
   "metadata": {
    "collapsed": false
   },
   "outputs": [
    {
     "data": {
      "text/html": [
       "<div>\n",
       "<table border=\"1\" class=\"dataframe\">\n",
       "  <thead>\n",
       "    <tr style=\"text-align: right;\">\n",
       "      <th></th>\n",
       "      <th>Sxx</th>\n",
       "      <th>avg_grads</th>\n",
       "      <th>frequency</th>\n",
       "      <th>hanzi</th>\n",
       "      <th>lines</th>\n",
       "      <th>max_min_difs</th>\n",
       "      <th>time</th>\n",
       "      <th>tone</th>\n",
       "      <th>turning_points</th>\n",
       "      <th>mean_grad</th>\n",
       "    </tr>\n",
       "  </thead>\n",
       "  <tbody>\n",
       "  </tbody>\n",
       "</table>\n",
       "</div>"
      ],
      "text/plain": [
       "Empty DataFrame\n",
       "Columns: [Sxx, avg_grads, frequency, hanzi, lines, max_min_difs, time, tone, turning_points, mean_grad]\n",
       "Index: []"
      ]
     },
     "execution_count": 36,
     "metadata": {},
     "output_type": "execute_result"
    }
   ],
   "source": [
    "df = df.drop(df[df.max_min_difs.apply(lambda x: len(x)) == 0].index.tolist())\n",
    "df[df.max_min_difs.apply(lambda x: len(x)) == 0]"
   ]
  },
  {
   "cell_type": "markdown",
   "metadata": {},
   "source": [
    "Calculate the features for each character"
   ]
  },
  {
   "cell_type": "code",
   "execution_count": 37,
   "metadata": {
    "collapsed": false
   },
   "outputs": [],
   "source": [
    "df[\"mean_grad\"] = df.avg_grads.apply(lambda x: np.mean(x))\n",
    "df[\"prime_tone_grad\"] = df.avg_grads.apply(lambda x: x[0])\n",
    "df[\"mean_dif\"] = df.max_min_difs.apply(lambda x: np.mean(x))\n",
    "df[\"max_dif\"] = df.max_min_difs.apply(lambda x: np.max(x))\n",
    "df[\"prime_tone_dif\"] = df.max_min_difs.apply(lambda x: x[0])\n",
    "df[\"mean_tp\"] = df.turning_points.apply(lambda x: np.mean(x))\n",
    "df[\"mode_tp\"] = df.turning_points.apply(lambda x: mode(x).mode[0])\n",
    "df[\"prime_tone_tp\"] = df.turning_points.apply(lambda x: x[0])"
   ]
  },
  {
   "cell_type": "markdown",
   "metadata": {},
   "source": [
    "## 5. Classifier training\n",
    "\n",
    "In this section we use the extracted features to train a random forrest classifier"
   ]
  },
  {
   "cell_type": "code",
   "execution_count": 38,
   "metadata": {
    "collapsed": false
   },
   "outputs": [
    {
     "name": "stderr",
     "output_type": "stream",
     "text": [
      "C:\\Users\\Chris\\Anaconda3\\lib\\site-packages\\sklearn\\ensemble\\weight_boosting.py:29: DeprecationWarning: numpy.core.umath_tests is an internal NumPy module and should not be imported. It will be removed in a future NumPy release.\n",
      "  from numpy.core.umath_tests import inner1d\n"
     ]
    }
   ],
   "source": [
    "from sklearn.ensemble import RandomForestClassifier\n",
    "from sklearn.model_selection import train_test_split, KFold, cross_val_score\n",
    "from sklearn.metrics import accuracy_score"
   ]
  },
  {
   "cell_type": "markdown",
   "metadata": {},
   "source": [
    "Define the training and testing sets"
   ]
  },
  {
   "cell_type": "code",
   "execution_count": 39,
   "metadata": {
    "collapsed": true
   },
   "outputs": [],
   "source": [
    "X = df.loc[:, \"mean_grad\":\"prime_tone_tp\"].values\n",
    "y = df.tone.values\n",
    "\n",
    "X_train, X_test, y_train, y_test = train_test_split(X, y, test_size=0.2)"
   ]
  },
  {
   "cell_type": "markdown",
   "metadata": {},
   "source": [
    "Use KFold cross validation to determine the optimum parameter settings for the random forest classifier"
   ]
  },
  {
   "cell_type": "code",
   "execution_count": 40,
   "metadata": {
    "collapsed": false
   },
   "outputs": [
    {
     "data": {
      "text/plain": [
       "0.7440821256038649"
      ]
     },
     "execution_count": 40,
     "metadata": {},
     "output_type": "execute_result"
    }
   ],
   "source": [
    "kf = KFold(n_splits=15)\n",
    "\n",
    "clf = RandomForestClassifier(n_estimators=200, max_depth=8, max_features=4)\n",
    "scores = cross_val_score(clf, X_train, y_train, cv=kf)\n",
    "\n",
    "np.mean(scores)"
   ]
  },
  {
   "cell_type": "markdown",
   "metadata": {},
   "source": [
    "Train the classifier using these settings and print the accuracy for the test set."
   ]
  },
  {
   "cell_type": "code",
   "execution_count": 41,
   "metadata": {
    "collapsed": false
   },
   "outputs": [
    {
     "data": {
      "text/plain": [
       "0.7272727272727273"
      ]
     },
     "execution_count": 41,
     "metadata": {},
     "output_type": "execute_result"
    }
   ],
   "source": [
    "clf.fit(X_train, y_train)\n",
    "y_pred = clf.predict(X_test)\n",
    "\n",
    "accuracy_score(y_test, y_pred)"
   ]
  },
  {
   "cell_type": "markdown",
   "metadata": {},
   "source": [
    "## 6. User Input Classification\n",
    "\n",
    "With the trained classifier, we can record a character pronunciation and use the classifier to determine the tone. The recorded sound file is processed as above and the classifier features are extracted."
   ]
  },
  {
   "cell_type": "code",
   "execution_count": 42,
   "metadata": {
    "collapsed": true
   },
   "outputs": [],
   "source": [
    "import sounddevice as sd\n",
    "from scipy.io.wavfile import write"
   ]
  },
  {
   "cell_type": "code",
   "execution_count": 49,
   "metadata": {
    "collapsed": true
   },
   "outputs": [],
   "source": [
    "def predict_tone():\n",
    "    fs = 44000\n",
    "    seconds = 3 \n",
    "    myrecording = sd.rec(int(seconds * fs), samplerate=fs, channels=2)\n",
    "    sd.wait()\n",
    "    write(r'rec.wav', fs, myrecording)\n",
    "    \n",
    "    spectrum_peaks, f, t, Sxx = get_spectrum_peaks(r'rec.wav')\n",
    "    \n",
    "    lines = get_tone_lines(spectrum_peaks, window=3)\n",
    "    if len(lines) == 0:\n",
    "        spectrum_peaks, f, t, Sxx = get_spectrum_peaks(r'rec.wav')\n",
    "        lines = get_tone_lines(spectrum_peaks, window=6)\n",
    "\n",
    "    turning_points = []\n",
    "    max_min_difs = []\n",
    "    avg_grads = []\n",
    "\n",
    "    if len(lines) > 0:\n",
    "        for i in range(len(lines)):\n",
    "            f2 = interp1d(np.linspace(0, len(lines[i])-1, len(lines[i])), lines[i], kind='linear')\n",
    "\n",
    "            diff = [round(derivative(f2, x, dx=1e-6)) for x in np.linspace(0.001, len(lines[i])-1.001, 50) if round(derivative(f2, x, dx=1e-6)) != 0]\n",
    "            turning_point = Counter([(np.sign(diff[i]) == -1 * np.sign(diff[i+1])) and diff[i] != 0 for i in range(len(diff)-1)])[True]\n",
    "            turning_points.append(turning_point)\n",
    "            max_min_dif = max([point for point in lines[i] if point])-min([point for point in lines[i] if point])\n",
    "            max_min_difs.append(max_min_dif)\n",
    "            avg_grad = np.mean([point for point in [round(derivative(f2, x, dx=1e-6)) for x in np.linspace(0.001, len(lines[i])-1.001, 50)] if not np.isnan(point)])\n",
    "            avg_grads.append(avg_grad)\n",
    "            \n",
    "    x = [np.mean(avg_grads), \n",
    "         avg_grads[0], \n",
    "         np.mean(max_min_difs), \n",
    "         np.max(max_min_difs), \n",
    "         max_min_difs[0], \n",
    "         np.mean(turning_points), \n",
    "         mode(turning_points).mode[0],\n",
    "         turning_points[0]]\n",
    "    \n",
    "    return clf.predict(x)[0]"
   ]
  },
  {
   "cell_type": "markdown",
   "metadata": {},
   "source": [
    "Run the following cell to record a single character. The classifier will return the estimated tone."
   ]
  },
  {
   "cell_type": "code",
   "execution_count": 50,
   "metadata": {
    "collapsed": false
   },
   "outputs": [
    {
     "name": "stderr",
     "output_type": "stream",
     "text": [
      "C:\\Users\\Chris\\Anaconda3\\lib\\site-packages\\scipy\\fftpack\\basic.py:154: FutureWarning: Using a non-tuple sequence for multidimensional indexing is deprecated; use `arr[tuple(seq)]` instead of `arr[seq]`. In the future this will be interpreted as an array index, `arr[np.array(seq)]`, which will result either in an error or a different result.\n",
      "  z[index] = x\n",
      "C:\\Users\\Chris\\Anaconda3\\lib\\site-packages\\scipy\\stats\\stats.py:1626: FutureWarning: Using a non-tuple sequence for multidimensional indexing is deprecated; use `arr[tuple(seq)]` instead of `arr[seq]`. In the future this will be interpreted as an array index, `arr[np.array(seq)]`, which will result either in an error or a different result.\n",
      "  return np.add.reduce(sorted[indexer] * weights, axis=axis) / sumval\n",
      "C:\\Users\\Chris\\Anaconda3\\lib\\site-packages\\sklearn\\utils\\validation.py:395: DeprecationWarning: Passing 1d arrays as data is deprecated in 0.17 and will raise ValueError in 0.19. Reshape your data either using X.reshape(-1, 1) if your data has a single feature or X.reshape(1, -1) if it contains a single sample.\n",
      "  DeprecationWarning)\n"
     ]
    },
    {
     "data": {
      "text/plain": [
       "1.0"
      ]
     },
     "execution_count": 50,
     "metadata": {},
     "output_type": "execute_result"
    }
   ],
   "source": [
    "predict_tone()"
   ]
  },
  {
   "cell_type": "markdown",
   "metadata": {},
   "source": [
    "## 7. Next Steps\n",
    "\n",
    "The are several clear defficiencies with the above method\n",
    "\n",
    "1. Insufficient training data. The number of single character pronunciation recordings available on wikitionary is limitted to approximately 450. Additional sources of pronunciation audio files should be added.\n",
    "2. The obtained training data were mostly recorded using a male voice. Female recordings should be added to the training data. Alternatively, separate models could be trained for male and female voices.\n",
    "3. Single character pronunciation training may be most benificial for absolute beginners. The method should be extended to two character words and ultimately full sentences.\n",
    "\n",
    "An alternative approach\n",
    "\n",
    "* Apply pattern recognition techniques from computer vission such as convolutional neural networks to the spectrograph images for tone pronunciations. This method may be more suitable for multi-character words and sentences."
   ]
  }
 ],
 "metadata": {
  "kernelspec": {
   "display_name": "Python 3",
   "language": "python",
   "name": "python3"
  },
  "language_info": {
   "codemirror_mode": {
    "name": "ipython",
    "version": 3
   },
   "file_extension": ".py",
   "mimetype": "text/x-python",
   "name": "python",
   "nbconvert_exporter": "python",
   "pygments_lexer": "ipython3",
   "version": "3.6.0"
  },
  "widgets": {
   "state": {
    "ac863379f75e4400b636b7fa60295bd1": {
     "views": [
      {
       "cell_index": 50
      }
     ]
    }
   },
   "version": "1.2.0"
  }
 },
 "nbformat": 4,
 "nbformat_minor": 2
}
